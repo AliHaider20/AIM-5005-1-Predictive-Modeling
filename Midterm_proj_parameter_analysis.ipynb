{
 "cells": [
  {
   "cell_type": "markdown",
   "metadata": {
    "slideshow": {
     "slide_type": "slide"
    }
   },
   "source": [
    "# Midterm project\n",
    "\n",
    "Congratulations! You've been hired as a data scientist at the hottest new social media startup.\n",
    "\n",
    "Your company produces an app via which users can post short videos for anyone to view. They can also like, repost, and comment on the videos they view. The key data product is a recommendation engine that determines the order in which videos are shown to a user.\n",
    "\n",
    "The recommendation engine has a parameter, *theta*, that affects the ordering of the videos. Recently the team of engineers that works on the recommendation engine ran it with different settings of *theta* and, for each setting, measured the amount of time users spent on the app. They have collected these measurements into a data set of 20 samples of (*theta*, *time_spent*) pairs.\n",
    "\n",
    "Additionally, they have identified two auxiliary features (*aux1* and *aux2*) that they hypoithesize should correlate with *time_spent*. These two features are measures of time spent by users in the recent past. The engineers have not verified that the features explain *time_spent*.\n",
    "\n",
    "(The engineers call these two features \"auxiliary\" because, while they might help explain *time_spent*, the engineers' ultimate interest lies in the dependence of *time_spent* on *theta*.)\n",
    "\n",
    "Your first project at your new company is to tell the engineers which setting you think they should use for *theta*, based on the data."
   ]
  },
  {
   "cell_type": "code",
   "execution_count": 14,
   "metadata": {
    "slideshow": {
     "slide_type": "slide"
    }
   },
   "outputs": [],
   "source": [
    "# Importing required libraries\n",
    "import pandas as pd \n",
    "import numpy as np\n",
    "import ppscore\n",
    "import seaborn as sns\n",
    "import scipy.stats as st\n",
    "from sklearn.linear_model import LinearRegression\n",
    "import matplotlib.pyplot as plt"
   ]
  },
  {
   "cell_type": "markdown",
   "metadata": {
    "slideshow": {
     "slide_type": "slide"
    }
   },
   "source": [
    "## 1. Prepare the data\n",
    "- Inspect the data. Identifiy and remove any suspicious or unusable samples.\n",
    "- Put the samples in a data structure that you can work with."
   ]
  },
  {
   "cell_type": "code",
   "execution_count": 15,
   "metadata": {
    "slideshow": {
     "slide_type": "slide"
    }
   },
   "outputs": [
    {
     "name": "stdout",
     "output_type": "stream",
     "text": [
      "(20, 4)\n"
     ]
    },
    {
     "data": {
      "text/html": [
       "<div>\n",
       "<style scoped>\n",
       "    .dataframe tbody tr th:only-of-type {\n",
       "        vertical-align: middle;\n",
       "    }\n",
       "\n",
       "    .dataframe tbody tr th {\n",
       "        vertical-align: top;\n",
       "    }\n",
       "\n",
       "    .dataframe thead th {\n",
       "        text-align: right;\n",
       "    }\n",
       "</style>\n",
       "<table border=\"1\" class=\"dataframe\">\n",
       "  <thead>\n",
       "    <tr style=\"text-align: right;\">\n",
       "      <th></th>\n",
       "      <th>theta</th>\n",
       "      <th>aux1</th>\n",
       "      <th>aux2</th>\n",
       "      <th>time_spent</th>\n",
       "    </tr>\n",
       "  </thead>\n",
       "  <tbody>\n",
       "    <tr>\n",
       "      <th>4</th>\n",
       "      <td>0.191521</td>\n",
       "      <td>-1.092230</td>\n",
       "      <td>-1.165373</td>\n",
       "      <td>9.518448</td>\n",
       "    </tr>\n",
       "    <tr>\n",
       "      <th>15</th>\n",
       "      <td>0.656334</td>\n",
       "      <td>0.349896</td>\n",
       "      <td>-0.786014</td>\n",
       "      <td>11.188444</td>\n",
       "    </tr>\n",
       "    <tr>\n",
       "      <th>16</th>\n",
       "      <td>0.786985</td>\n",
       "      <td>0.977542</td>\n",
       "      <td>1.119182</td>\n",
       "      <td>12.191443</td>\n",
       "    </tr>\n",
       "    <tr>\n",
       "      <th>13</th>\n",
       "      <td>0.637521</td>\n",
       "      <td>0.159991</td>\n",
       "      <td>0.703111</td>\n",
       "      <td>-11.881355</td>\n",
       "    </tr>\n",
       "    <tr>\n",
       "      <th>12</th>\n",
       "      <td>0.597513</td>\n",
       "      <td>-1.212560</td>\n",
       "      <td>0.637926</td>\n",
       "      <td>11.883922</td>\n",
       "    </tr>\n",
       "    <tr>\n",
       "      <th>8</th>\n",
       "      <td>0.483529</td>\n",
       "      <td>0.491334</td>\n",
       "      <td>0.126727</td>\n",
       "      <td>10.927435</td>\n",
       "    </tr>\n",
       "    <tr>\n",
       "      <th>1</th>\n",
       "      <td>0.051194</td>\n",
       "      <td>-1.775282</td>\n",
       "      <td>0.869624</td>\n",
       "      <td>10.876481</td>\n",
       "    </tr>\n",
       "    <tr>\n",
       "      <th>9</th>\n",
       "      <td>0.530587</td>\n",
       "      <td>-0.446647</td>\n",
       "      <td>-0.694179</td>\n",
       "      <td>9.889276</td>\n",
       "    </tr>\n",
       "    <tr>\n",
       "      <th>0</th>\n",
       "      <td>0.039063</td>\n",
       "      <td>0.539840</td>\n",
       "      <td>0.968205</td>\n",
       "      <td>10.797684</td>\n",
       "    </tr>\n",
       "  </tbody>\n",
       "</table>\n",
       "</div>"
      ],
      "text/plain": [
       "       theta      aux1      aux2  time_spent\n",
       "4   0.191521 -1.092230 -1.165373    9.518448\n",
       "15  0.656334  0.349896 -0.786014   11.188444\n",
       "16  0.786985  0.977542  1.119182   12.191443\n",
       "13  0.637521  0.159991  0.703111  -11.881355\n",
       "12  0.597513 -1.212560  0.637926   11.883922\n",
       "8   0.483529  0.491334  0.126727   10.927435\n",
       "1   0.051194 -1.775282  0.869624   10.876481\n",
       "9   0.530587 -0.446647 -0.694179    9.889276\n",
       "0   0.039063  0.539840  0.968205   10.797684"
      ]
     },
     "execution_count": 15,
     "metadata": {},
     "output_type": "execute_result"
    }
   ],
   "source": [
    "theta = [0.03906292, 0.05119367, 0.06004468, 0.06790036, 0.19152079,\n",
    "       0.28298816, 0.294665  , 0.3578136 , 0.48352862, 0.53058676,\n",
    "       0.55175137, 0.57560289, 0.59751325, 0.6375209 , 0.65241862,\n",
    "       0.65633352, 0.78698546, 0.8640421 , 0.87729053, 0.94568319]\n",
    "aux1 = [ 0.53983961, -1.77528229,  1.31487654, -0.47344805, -1.0922299 ,\n",
    "       -0.25002744, -0.9822943 ,  1.03126909,  0.49133378, -0.4466466 ,\n",
    "       -0.80636008,  0.13126776, -1.21256024,  0.15999085, -0.75522304,\n",
    "        0.34989599,  0.97754176, -0.13858525,  0.10385631,  0.30059104]\n",
    "aux2 = [ 0.9682053 ,  0.86962384,  0.56778309,  0.46528234, -1.16537308,\n",
    "       -2.03599479, -1.15541329,  3.34515739,  0.12672721, -0.6941789 ,\n",
    "        0.55767443,  0.0991466 ,  0.63792617,  0.70311068, -0.91609315,\n",
    "       -0.78601423,  1.1191818 , -0.98339611,  0.24452002, -0.58140974]\n",
    "time_spent = [10.79768391, 10.87648065, 10.29274937, 10.78756647,  9.51844772,\n",
    "        9.18078781,  9.90063639, 12.84823357, 10.92743478,  9.88927608,\n",
    "       11.3373709 , 11.43996915, 11.88392171, -11.88135476, 11.73452467,\n",
    "       11.18844425, 12.19144316, 11.35294826, 12.2385441 , 11.98428985]\n",
    "\n",
    "df = pd.DataFrame({\"theta\": theta, \"aux1\": aux1, \"aux2\":aux2, \"time_spent\": time_spent})\n",
    "print(df.shape)\n",
    "df.sample(9)"
   ]
  },
  {
   "cell_type": "code",
   "execution_count": 16,
   "metadata": {
    "slideshow": {
     "slide_type": "slide"
    }
   },
   "outputs": [],
   "source": [
    "def get_outlier_idx_using_iqr(dataframe, col_name, th1=0.25, th3=0.75):\n",
    "    quartile1 = dataframe[col_name].quantile(th1)\n",
    "    quartile3 = dataframe[col_name].quantile(th3)\n",
    "    iqr = quartile3 - quartile1\n",
    "    upper_limit = quartile3 + 1.5 * iqr\n",
    "    lower_limit = quartile1 - 1.5 * iqr\n",
    "    upperouts = dataframe[dataframe[col_name] > upper_limit].index.to_list()\n",
    "    lowerouts = dataframe[dataframe[col_name] < lower_limit].index.to_list()\n",
    "    final_idx = []\n",
    "    final_idx.extend(lowerouts)\n",
    "    final_idx.extend(upperouts)\n",
    "    if final_idx:\n",
    "        print(f\"Outliers in {col_name} are present at {final_idx}\" )\n",
    "    else:\n",
    "        print(\"There are no outlies present in \", col_name)\n",
    "    return final_idx"
   ]
  },
  {
   "cell_type": "markdown",
   "metadata": {},
   "source": [
    "### Detecting and removing outliers from each feature"
   ]
  },
  {
   "cell_type": "code",
   "execution_count": 17,
   "metadata": {
    "slideshow": {
     "slide_type": "slide"
    }
   },
   "outputs": [
    {
     "name": "stdout",
     "output_type": "stream",
     "text": [
      "There are no outlies present in  theta\n",
      "There are no outlies present in  aux1\n",
      "Outliers in aux2 are present at [7]\n"
     ]
    }
   ],
   "source": [
    "idx = get_outlier_idx_using_iqr(df, \"theta\") # Detecting outliers in Theta feature\n",
    "idx = get_outlier_idx_using_iqr(df, \"aux1\") # Detecting outliers in Aux1 feature\n",
    "idx = get_outlier_idx_using_iqr(df, 'aux2') # Detecting outliers in Aux2 feature\n",
    "df.drop(idx, inplace=True) # Dropping the outlier"
   ]
  },
  {
   "cell_type": "code",
   "execution_count": 18,
   "metadata": {
    "slideshow": {
     "slide_type": "slide"
    }
   },
   "outputs": [
    {
     "name": "stdout",
     "output_type": "stream",
     "text": [
      "Final dataset shape: (18, 4)\n"
     ]
    },
    {
     "data": {
      "text/html": [
       "<div>\n",
       "<style scoped>\n",
       "    .dataframe tbody tr th:only-of-type {\n",
       "        vertical-align: middle;\n",
       "    }\n",
       "\n",
       "    .dataframe tbody tr th {\n",
       "        vertical-align: top;\n",
       "    }\n",
       "\n",
       "    .dataframe thead th {\n",
       "        text-align: right;\n",
       "    }\n",
       "</style>\n",
       "<table border=\"1\" class=\"dataframe\">\n",
       "  <thead>\n",
       "    <tr style=\"text-align: right;\">\n",
       "      <th></th>\n",
       "      <th>theta</th>\n",
       "      <th>aux1</th>\n",
       "      <th>aux2</th>\n",
       "      <th>time_spent</th>\n",
       "    </tr>\n",
       "  </thead>\n",
       "  <tbody>\n",
       "    <tr>\n",
       "      <th>0</th>\n",
       "      <td>0.039063</td>\n",
       "      <td>0.539840</td>\n",
       "      <td>0.968205</td>\n",
       "      <td>10.797684</td>\n",
       "    </tr>\n",
       "    <tr>\n",
       "      <th>1</th>\n",
       "      <td>0.051194</td>\n",
       "      <td>-1.775282</td>\n",
       "      <td>0.869624</td>\n",
       "      <td>10.876481</td>\n",
       "    </tr>\n",
       "    <tr>\n",
       "      <th>2</th>\n",
       "      <td>0.060045</td>\n",
       "      <td>1.314877</td>\n",
       "      <td>0.567783</td>\n",
       "      <td>10.292749</td>\n",
       "    </tr>\n",
       "    <tr>\n",
       "      <th>3</th>\n",
       "      <td>0.067900</td>\n",
       "      <td>-0.473448</td>\n",
       "      <td>0.465282</td>\n",
       "      <td>10.787566</td>\n",
       "    </tr>\n",
       "    <tr>\n",
       "      <th>4</th>\n",
       "      <td>0.191521</td>\n",
       "      <td>-1.092230</td>\n",
       "      <td>-1.165373</td>\n",
       "      <td>9.518448</td>\n",
       "    </tr>\n",
       "    <tr>\n",
       "      <th>5</th>\n",
       "      <td>0.282988</td>\n",
       "      <td>-0.250027</td>\n",
       "      <td>-2.035995</td>\n",
       "      <td>9.180788</td>\n",
       "    </tr>\n",
       "    <tr>\n",
       "      <th>6</th>\n",
       "      <td>0.294665</td>\n",
       "      <td>-0.982294</td>\n",
       "      <td>-1.155413</td>\n",
       "      <td>9.900636</td>\n",
       "    </tr>\n",
       "    <tr>\n",
       "      <th>7</th>\n",
       "      <td>0.483529</td>\n",
       "      <td>0.491334</td>\n",
       "      <td>0.126727</td>\n",
       "      <td>10.927435</td>\n",
       "    </tr>\n",
       "    <tr>\n",
       "      <th>8</th>\n",
       "      <td>0.530587</td>\n",
       "      <td>-0.446647</td>\n",
       "      <td>-0.694179</td>\n",
       "      <td>9.889276</td>\n",
       "    </tr>\n",
       "    <tr>\n",
       "      <th>9</th>\n",
       "      <td>0.551751</td>\n",
       "      <td>-0.806360</td>\n",
       "      <td>0.557674</td>\n",
       "      <td>11.337371</td>\n",
       "    </tr>\n",
       "    <tr>\n",
       "      <th>10</th>\n",
       "      <td>0.575603</td>\n",
       "      <td>0.131268</td>\n",
       "      <td>0.099147</td>\n",
       "      <td>11.439969</td>\n",
       "    </tr>\n",
       "    <tr>\n",
       "      <th>11</th>\n",
       "      <td>0.597513</td>\n",
       "      <td>-1.212560</td>\n",
       "      <td>0.637926</td>\n",
       "      <td>11.883922</td>\n",
       "    </tr>\n",
       "    <tr>\n",
       "      <th>12</th>\n",
       "      <td>0.652419</td>\n",
       "      <td>-0.755223</td>\n",
       "      <td>-0.916093</td>\n",
       "      <td>11.734525</td>\n",
       "    </tr>\n",
       "    <tr>\n",
       "      <th>13</th>\n",
       "      <td>0.656334</td>\n",
       "      <td>0.349896</td>\n",
       "      <td>-0.786014</td>\n",
       "      <td>11.188444</td>\n",
       "    </tr>\n",
       "    <tr>\n",
       "      <th>14</th>\n",
       "      <td>0.786985</td>\n",
       "      <td>0.977542</td>\n",
       "      <td>1.119182</td>\n",
       "      <td>12.191443</td>\n",
       "    </tr>\n",
       "    <tr>\n",
       "      <th>15</th>\n",
       "      <td>0.864042</td>\n",
       "      <td>-0.138585</td>\n",
       "      <td>-0.983396</td>\n",
       "      <td>11.352948</td>\n",
       "    </tr>\n",
       "    <tr>\n",
       "      <th>16</th>\n",
       "      <td>0.877291</td>\n",
       "      <td>0.103856</td>\n",
       "      <td>0.244520</td>\n",
       "      <td>12.238544</td>\n",
       "    </tr>\n",
       "    <tr>\n",
       "      <th>17</th>\n",
       "      <td>0.945683</td>\n",
       "      <td>0.300591</td>\n",
       "      <td>-0.581410</td>\n",
       "      <td>11.984290</td>\n",
       "    </tr>\n",
       "  </tbody>\n",
       "</table>\n",
       "</div>"
      ],
      "text/plain": [
       "       theta      aux1      aux2  time_spent\n",
       "0   0.039063  0.539840  0.968205   10.797684\n",
       "1   0.051194 -1.775282  0.869624   10.876481\n",
       "2   0.060045  1.314877  0.567783   10.292749\n",
       "3   0.067900 -0.473448  0.465282   10.787566\n",
       "4   0.191521 -1.092230 -1.165373    9.518448\n",
       "5   0.282988 -0.250027 -2.035995    9.180788\n",
       "6   0.294665 -0.982294 -1.155413    9.900636\n",
       "7   0.483529  0.491334  0.126727   10.927435\n",
       "8   0.530587 -0.446647 -0.694179    9.889276\n",
       "9   0.551751 -0.806360  0.557674   11.337371\n",
       "10  0.575603  0.131268  0.099147   11.439969\n",
       "11  0.597513 -1.212560  0.637926   11.883922\n",
       "12  0.652419 -0.755223 -0.916093   11.734525\n",
       "13  0.656334  0.349896 -0.786014   11.188444\n",
       "14  0.786985  0.977542  1.119182   12.191443\n",
       "15  0.864042 -0.138585 -0.983396   11.352948\n",
       "16  0.877291  0.103856  0.244520   12.238544\n",
       "17  0.945683  0.300591 -0.581410   11.984290"
      ]
     },
     "execution_count": 18,
     "metadata": {},
     "output_type": "execute_result"
    }
   ],
   "source": [
    "# Removing data point with negative time spent\n",
    "df.drop(df[df.time_spent<0].index, inplace=True) \n",
    "df.reset_index(drop=True, inplace=True)\n",
    "print(\"Final dataset shape:\", df.shape)\n",
    "df"
   ]
  },
  {
   "cell_type": "code",
   "execution_count": 19,
   "metadata": {
    "slideshow": {
     "slide_type": "slide"
    }
   },
   "outputs": [
    {
     "data": {
      "image/png": "[encoded data removed]",
      "text/plain": [
       "<Figure size 640x480 with 1 Axes>"
      ]
     },
     "metadata": {},
     "output_type": "display_data"
    }
   ],
   "source": [
    "df['theta'].plot(bins=15, kind='hist');"
   ]
  },
  {
   "cell_type": "code",
   "execution_count": 20,
   "metadata": {
    "slideshow": {
     "slide_type": "slide"
    }
   },
   "outputs": [
    {
     "data": {
      "image/png": "[encoded data removed]",
      "text/plain": [
       "<Figure size 640x480 with 1 Axes>"
      ]
     },
     "metadata": {},
     "output_type": "display_data"
    }
   ],
   "source": [
    "df['aux1'].plot(bins=15, kind='hist');"
   ]
  },
  {
   "cell_type": "code",
   "execution_count": 21,
   "metadata": {
    "slideshow": {
     "slide_type": "slide"
    }
   },
   "outputs": [
    {
     "data": {
      "image/png": "[encoded data removed]",
      "text/plain": [
       "<Figure size 640x480 with 1 Axes>"
      ]
     },
     "metadata": {},
     "output_type": "display_data"
    }
   ],
   "source": [
    "df.aux2.plot(bins=15, kind='hist');"
   ]
  },
  {
   "cell_type": "code",
   "execution_count": 22,
   "metadata": {
    "scrolled": false,
    "slideshow": {
     "slide_type": "slide"
    }
   },
   "outputs": [
    {
     "data": {
      "image/png": "[encoded data removed]",
      "text/plain": [
       "<Figure size 640x480 with 2 Axes>"
      ]
     },
     "metadata": {},
     "output_type": "display_data"
    }
   ],
   "source": [
    "# Correlation plot\n",
    "sns.heatmap(df.corr(), annot=True);"
   ]
  },
  {
   "cell_type": "markdown",
   "metadata": {},
   "source": [
    "## 2. Build a model  \n",
    "\n",
    "Write functions to run a regression, calculate the regression statistics listed below, and print a report.\n",
    "- B (regressor coefficients plus one for an intercept, if appropriate)\n",
    "- R2\n",
    "- RSS\n",
    "- RegSS\n",
    "- TSS\n",
    "- t statistic for each regressor coefficient\n",
    "\n",
    "I found it useful to decompose the problem into three functions: `regress_calc()`, `regress_tstat()`, and `regress_report()`. You may write it however you see fit.  \n",
    "\n",
    "You may include either, both, or neither of *aux1* and *aux2* in your final model. Experiment. What works best? Justify your decision."
   ]
  },
  {
   "cell_type": "code",
   "execution_count": 23,
   "metadata": {},
   "outputs": [],
   "source": [
    "from sklearn.linear_model import LinearRegression\n",
    "from scipy.stats import t\n",
    "\n",
    "def Regression_calc(features):\n",
    "    print(features)\n",
    "    X, y = df[features], df.iloc[:, -1]\n",
    "    model = LinearRegression().fit(X, y)\n",
    "    alpha, beta = model.intercept_, model.coef_[0]\n",
    "    preds = model.predict(X)\n",
    "    TSS = ((y - y.mean())**2).sum()\n",
    "    RSS = ((y - preds)**2).sum()\n",
    "    RegSS = TSS - RSS\n",
    "    R2 = RegSS / TSS\n",
    "    t_scores = beta / (np.std(X)/np.sqrt(len(X))) \n",
    "    t_statistics = list(t_scores)\n",
    "    p_values = (t.sf(np.abs(t_scores), df=len(X)))*2\n",
    "    return alpha, beta, preds, R2, RSS, RegSS, TSS, p_values, t_statistics\n",
    "    \n",
    "def t_stat(p_values):\n",
    "    return np.array(p_values) < 0.05\n",
    "\n",
    "def regress_report(features):\n",
    "    alpha, beta, preds, R2, RSS, RegSS, TSS, p_values, t_statistics = Regression_calc(features)\n",
    "    print(\"Significance values:\", t_stat(p_values))\n",
    "    print(f\"Beta: {beta}, Alpha: {alpha}\")\n",
    "    print('Predictions:', preds)\n",
    "    print(\"Total Sum of Squares:\", TSS)\n",
    "    print(\"Residual Sum of Squares:\", RSS)\n",
    "    print(\"Regression Sum of Squares:\", RegSS)\n",
    "    print(\"T statistics:\", t_statistics)\n",
    "    print(\"R2 Score:\", R2)"
   ]
  },
  {
   "cell_type": "markdown",
   "metadata": {},
   "source": [
    "#### For start I'm considering Theta as it is the highest correlated feature with time spent after that we will apply multiple combinations of the features and the best one will be the ones/one with the significant p values and the R2 score closer to 1."
   ]
  },
  {
   "cell_type": "code",
   "execution_count": 24,
   "metadata": {},
   "outputs": [
    {
     "name": "stdout",
     "output_type": "stream",
     "text": [
      "\n",
      "\n",
      "['theta', 'aux1', 'aux2']\n",
      "Significance values: [ True  True  True]\n",
      "Beta: 2.387782010713605, Alpha: 9.921886750105543\n",
      "Predictions: [10.6011632  10.79422518 10.31007428 10.43818526  9.71766336  9.27768716\n",
      "  9.95964321 11.11150076 10.77456313 11.68749542 11.34878616 11.88998193\n",
      " 10.94945843 10.93530641 12.44341733 11.34927006 12.16787577 11.76622216]\n",
      "Total Sum of Squares: 14.251632696903888\n",
      "Residual Sum of Squares: 1.9653234005697902\n",
      "Regression Sum of Squares: 12.286309296334098\n",
      "T statistics: [34.10859477892874, 12.846403878429172, 11.49615327713406]\n",
      "R2 Score: 0.8620983684910186\n",
      "\n",
      "\n",
      "['aux1', 'aux2']\n",
      "Significance values: [False False]\n",
      "Beta: 0.11572630660613004, Alpha: 11.071331021870192\n",
      "Predictions: [11.61777502 11.30057725 11.50731079 11.24911822 10.36240399 10.02467707\n",
      " 10.38010496 11.19153755 10.67264766 11.25677496 11.13608191 11.24988182\n",
      " 10.52601045 10.71892348 11.7438963  10.56372938 11.20557653 10.81549189]\n",
      "Total Sum of Squares: 14.251632696903888\n",
      "Residual Sum of Squares: 10.316400955328088\n",
      "Regression Sum of Squares: 3.9352317415758\n",
      "T statistics: [0.6226141529464709, 0.5571728712970249]\n",
      "R2 Score: 0.2761249763636354\n",
      "\n",
      "\n",
      "['theta', 'aux1']\n",
      "Significance values: [ True  True]\n",
      "Beta: 1.9974387382249925, Alpha: 10.04567546009049\n",
      "Predictions: [10.16662635 10.00677092 10.27016283 10.14365626 10.34137835 10.59104616\n",
      " 10.55614407 11.05056244 11.06997511 11.08364767 11.20584467 11.1427554\n",
      " 11.28879047 11.38448328 11.69535949 11.76052708 11.80626764 11.95852106]\n",
      "Total Sum of Squares: 14.251632696903888\n",
      "Residual Sum of Squares: 7.5800775060849475\n",
      "Regression Sum of Squares: 6.671555190818941\n",
      "T statistics: [28.532683558282578, 10.74633473178298]\n",
      "R2 Score: 0.4681256760334772\n",
      "\n",
      "\n",
      "['theta', 'aux2']\n",
      "Significance values: [ True  True]\n",
      "Beta: 2.3261798304910615, Alpha: 9.96837187403317\n",
      "Predictions: [10.67828878 10.64347624 10.47107483 10.42381179  9.66876932  9.32488218\n",
      "  9.91506938 11.17417304 10.75876911 11.60840975 11.3707199  11.76617134\n",
      " 10.90028476 10.99256117 12.51462222 11.34952697 12.16544822 11.79646022]\n",
      "Total Sum of Squares: 14.251632696903888\n",
      "Residual Sum of Squares: 2.0646581465137244\n",
      "Regression Sum of Squares: 12.186974550390165\n",
      "T statistics: [33.228630111600786, 11.199565019551722]\n",
      "R2 Score: 0.8551283077227873\n",
      "\n",
      "\n",
      "['theta']\n",
      "Significance values: [ True]\n",
      "Beta: 2.0393228310533233, Alpha: 10.009427393374207\n",
      "Predictions: [10.0890893  10.11382781 10.13187788 10.14789815 10.40000011 10.58653161\n",
      " 10.61034446 10.99549835 11.09146509 11.13462656 11.18326751 11.22794981\n",
      " 11.33991958 11.34790333 11.61434481 11.77148817 11.798506   11.93798071]\n",
      "Total Sum of Squares: 14.251632696903888\n",
      "Residual Sum of Squares: 7.648064461701452\n",
      "Regression Sum of Squares: 6.603568235202436\n",
      "T statistics: [29.13098254183913]\n",
      "R2 Score: 0.46335520818165876\n",
      "\n",
      "\n",
      "['aux1']\n",
      "Significance values: [False]\n",
      "Beta: 0.22876356956462343, Alpha: 11.020794997203062\n",
      "Predictions: [11.14429063 10.61467508 11.32159085 10.91248733 10.77093259 10.96359783\n",
      " 10.79608185 11.13319427 10.91861853 10.83632919 11.05082428 10.74340539\n",
      " 10.84802748 11.10083845 11.24442094 10.98909174 11.04455354 11.08955928]\n",
      "Total Sum of Squares: 14.251632696903888\n",
      "Residual Sum of Squares: 13.665838658188415\n",
      "Regression Sum of Squares: 0.5857940387154734\n",
      "T statistics: [1.2307610971656506]\n",
      "R2 Score: 0.041103644134944266\n",
      "\n",
      "\n",
      "['aux2']\n",
      "Significance values: [ True]\n",
      "Beta: 0.5208210968656077, Alpha: 11.050491229026745\n",
      "Predictions: [11.55475298 11.50340967 11.34620464 11.29282009 10.44354034  9.99010219\n",
      " 10.44872761 11.11649343 10.68894821 11.34093984 11.10212887 11.38273664\n",
      " 10.57337059 10.64111844 11.63338472 10.53831779 11.17784241 10.74768077]\n",
      "Total Sum of Squares: 14.251632696903888\n",
      "Residual Sum of Squares: 10.460173324284995\n",
      "Regression Sum of Squares: 3.7914593726188937\n",
      "T statistics: [2.5075317314006917]\n",
      "R2 Score: 0.26603684316412207\n"
     ]
    }
   ],
   "source": [
    "feature_combinations = [['theta','aux1','aux2'],['aux1','aux2'],['theta','aux1'], \n",
    "                        ['theta','aux2'],['theta'],['aux1'],['aux2']]\n",
    "for features in feature_combinations:\n",
    "    print(\"\\n\")\n",
    "    regress_report(features)"
   ]
  },
  {
   "cell_type": "markdown",
   "metadata": {
    "slideshow": {
     "slide_type": "slide"
    }
   },
   "source": [
    "Observations:\n",
    "- Combination [theta, aux1, and aux2] has R2 score of 0.8620983 and P values are all significant.\n",
    "- Combination [theta, aux2] has R2 score of 0.8551283 and P values are all significant.\n",
    "- As the difference between the above two combinations is not even 1 percent I would choose [theta, and aux2 ] for my final model \n",
    "as it would reduce dimensions and make the model more interpretable."
   ]
  },
  {
   "cell_type": "markdown",
   "metadata": {
    "slideshow": {
     "slide_type": "slide"
    }
   },
   "source": [
    "## 3. Propose a setting for *theta*\n",
    "\n",
    "Now that you have a model built, you should be able to plot estimated *time_spent* vs. *theta* over a reasonable range of *theta*.  By inspecting that plot -- and knowning that the company wants to maximize the time users spend on the app -- which value of *theta* would you propose the engineers use? Explain how the data and your model support your decision.\n",
    "\n",
    "The engineer's have capacity to take another set of measurements. Which settings of *theta* do you suggest they measure? Why?\n"
   ]
  },
  {
   "cell_type": "code",
   "execution_count": 25,
   "metadata": {
    "slideshow": {
     "slide_type": "subslide"
    }
   },
   "outputs": [
    {
     "data": {
      "text/html": [
       "<div>\n",
       "<style scoped>\n",
       "    .dataframe tbody tr th:only-of-type {\n",
       "        vertical-align: middle;\n",
       "    }\n",
       "\n",
       "    .dataframe tbody tr th {\n",
       "        vertical-align: top;\n",
       "    }\n",
       "\n",
       "    .dataframe thead th {\n",
       "        text-align: right;\n",
       "    }\n",
       "</style>\n",
       "<table border=\"1\" class=\"dataframe\">\n",
       "  <thead>\n",
       "    <tr style=\"text-align: right;\">\n",
       "      <th></th>\n",
       "      <th>Theta</th>\n",
       "      <th>Predicted time spent</th>\n",
       "    </tr>\n",
       "  </thead>\n",
       "  <tbody>\n",
       "    <tr>\n",
       "      <th>0</th>\n",
       "      <td>0.039063</td>\n",
       "      <td>10.089089</td>\n",
       "    </tr>\n",
       "    <tr>\n",
       "      <th>1</th>\n",
       "      <td>0.051194</td>\n",
       "      <td>10.113828</td>\n",
       "    </tr>\n",
       "    <tr>\n",
       "      <th>2</th>\n",
       "      <td>0.060045</td>\n",
       "      <td>10.131878</td>\n",
       "    </tr>\n",
       "    <tr>\n",
       "      <th>3</th>\n",
       "      <td>0.067900</td>\n",
       "      <td>10.147898</td>\n",
       "    </tr>\n",
       "    <tr>\n",
       "      <th>4</th>\n",
       "      <td>0.191521</td>\n",
       "      <td>10.400000</td>\n",
       "    </tr>\n",
       "    <tr>\n",
       "      <th>5</th>\n",
       "      <td>0.282988</td>\n",
       "      <td>10.586532</td>\n",
       "    </tr>\n",
       "    <tr>\n",
       "      <th>6</th>\n",
       "      <td>0.294665</td>\n",
       "      <td>10.610344</td>\n",
       "    </tr>\n",
       "    <tr>\n",
       "      <th>7</th>\n",
       "      <td>0.483529</td>\n",
       "      <td>10.995498</td>\n",
       "    </tr>\n",
       "    <tr>\n",
       "      <th>8</th>\n",
       "      <td>0.530587</td>\n",
       "      <td>11.091465</td>\n",
       "    </tr>\n",
       "    <tr>\n",
       "      <th>9</th>\n",
       "      <td>0.551751</td>\n",
       "      <td>11.134627</td>\n",
       "    </tr>\n",
       "    <tr>\n",
       "      <th>10</th>\n",
       "      <td>0.575603</td>\n",
       "      <td>11.183268</td>\n",
       "    </tr>\n",
       "    <tr>\n",
       "      <th>11</th>\n",
       "      <td>0.597513</td>\n",
       "      <td>11.227950</td>\n",
       "    </tr>\n",
       "    <tr>\n",
       "      <th>12</th>\n",
       "      <td>0.652419</td>\n",
       "      <td>11.339920</td>\n",
       "    </tr>\n",
       "    <tr>\n",
       "      <th>13</th>\n",
       "      <td>0.656334</td>\n",
       "      <td>11.347903</td>\n",
       "    </tr>\n",
       "    <tr>\n",
       "      <th>14</th>\n",
       "      <td>0.786985</td>\n",
       "      <td>11.614345</td>\n",
       "    </tr>\n",
       "    <tr>\n",
       "      <th>15</th>\n",
       "      <td>0.864042</td>\n",
       "      <td>11.771488</td>\n",
       "    </tr>\n",
       "    <tr>\n",
       "      <th>16</th>\n",
       "      <td>0.877291</td>\n",
       "      <td>11.798506</td>\n",
       "    </tr>\n",
       "    <tr>\n",
       "      <th>17</th>\n",
       "      <td>0.945683</td>\n",
       "      <td>11.937981</td>\n",
       "    </tr>\n",
       "  </tbody>\n",
       "</table>\n",
       "</div>"
      ],
      "text/plain": [
       "       Theta  Predicted time spent\n",
       "0   0.039063             10.089089\n",
       "1   0.051194             10.113828\n",
       "2   0.060045             10.131878\n",
       "3   0.067900             10.147898\n",
       "4   0.191521             10.400000\n",
       "5   0.282988             10.586532\n",
       "6   0.294665             10.610344\n",
       "7   0.483529             10.995498\n",
       "8   0.530587             11.091465\n",
       "9   0.551751             11.134627\n",
       "10  0.575603             11.183268\n",
       "11  0.597513             11.227950\n",
       "12  0.652419             11.339920\n",
       "13  0.656334             11.347903\n",
       "14  0.786985             11.614345\n",
       "15  0.864042             11.771488\n",
       "16  0.877291             11.798506\n",
       "17  0.945683             11.937981"
      ]
     },
     "execution_count": 25,
     "metadata": {},
     "output_type": "execute_result"
    },
    {
     "data": {
      "image/png": "[encoded data removed]",
      "text/plain": [
       "<Figure size 640x480 with 1 Axes>"
      ]
     },
     "metadata": {},
     "output_type": "display_data"
    }
   ],
   "source": [
    "model = LinearRegression().fit(df.theta.to_numpy().reshape(-1, 1), df.time_spent)\n",
    "alpha, beta = model.intercept_, model.coef_\n",
    "time_spents = df.theta * model.coef_ + model.intercept_\n",
    "plt.scatter(df.theta, df.time_spent, c=\"mediumturquoise\")\n",
    "plt.plot(df.theta, time_spents)\n",
    "\n",
    "# thetas = np.linspace(0, 1, 10)\n",
    "time_spents = df.theta * beta + alpha\n",
    "\n",
    "plt.scatter(df.theta[:-4], df.theta[:-4]*beta + alpha)\n",
    "plt.scatter(df.theta.iloc[np.argsort(np.sort(time_spents))][-4:], np.sort(time_spents)[-4:], color='red', marker=\"x\")\n",
    "plt.axhline(linestyle = \"-.\", y=11.5, color='green')\n",
    "plt.xlabel(\"Theta values\")\n",
    "plt.ylabel(\"Time spent on videos \")\n",
    "\n",
    "pd.DataFrame({\"Theta\": df.theta, \"Predicted time spent\": time_spents})"
   ]
  },
  {
   "cell_type": "markdown",
   "metadata": {
    "slideshow": {
     "slide_type": "slide"
    }
   },
   "source": [
    "### Observations\n",
    "- As we can see that as theta value increases the value of customer time spent increases.\n",
    "- As shown in the above table and seen in the figure I would recommend to choose theta values above 0.85 to increase the time spent by the user on the videos.\n",
    "- I propose 0.786985, 0.864042, 0.877291, and 0.945683 values for theta."
   ]
  },
  {
   "cell_type": "markdown",
   "metadata": {
    "slideshow": {
     "slide_type": "slide"
    }
   },
   "source": [
    "## 4. Experiment or observation?\n",
    "\n",
    "Is this data set experimental or observational? Explain clearly. Consider how the effect of *theta* on *time_spent* differs from the effect of *aux1* or *aux2*."
   ]
  },
  {
   "cell_type": "code",
   "execution_count": 26,
   "metadata": {
    "slideshow": {
     "slide_type": "slide"
    }
   },
   "outputs": [
    {
     "data": {
      "text/plain": [
       "[<matplotlib.lines.Line2D at 0x231c4a09d30>]"
      ]
     },
     "execution_count": 26,
     "metadata": {},
     "output_type": "execute_result"
    },
    {
     "data": {
      "image/png": "[encoded data removed]",
      "text/plain": [
       "<Figure size 800x500 with 1 Axes>"
      ]
     },
     "metadata": {},
     "output_type": "display_data"
    },
    {
     "data": {
      "image/png": "[encoded data removed]",
      "text/plain": [
       "<Figure size 800x500 with 1 Axes>"
      ]
     },
     "metadata": {},
     "output_type": "display_data"
    },
    {
     "data": {
      "image/png": "[encoded data removed]",
      "text/plain": [
       "<Figure size 800x500 with 1 Axes>"
      ]
     },
     "metadata": {},
     "output_type": "display_data"
    }
   ],
   "source": [
    "plt.figure(figsize=(8,5))\n",
    "plt.xlabel('Values of Theta')\n",
    "plt.ylabel('Time Spent in Hours')\n",
    "X1, y = df[['theta']], df.time_spent\n",
    "reg1 = LinearRegression().fit(X1, y) # Fit the best fit line\n",
    "y_hat1 = reg1.predict(X1)\n",
    "plt.scatter(X1, y, c='r',marker='x') \n",
    "plt.plot(X1, y_hat1, c='b', marker='o')\n",
    "\n",
    "X2 = df[['aux1']]\n",
    "reg2 = LinearRegression().fit(X2, y) # Fit the best fit line\n",
    "y_hat2 = reg2.predict(X2)\n",
    "plt.figure(figsize=(8,5))\n",
    "plt.xlabel('Aux1')\n",
    "plt.ylabel('Time Spent in Hours')\n",
    "plt.scatter(X2, y, c='r',marker='x') \n",
    "plt.plot(X2, y_hat2, c='b', marker='o')\n",
    "\n",
    "X3 = df[['aux2']]\n",
    "reg3 = LinearRegression().fit(X3, y) # Fit the best fit line\n",
    "y_hat3 = reg3.predict(X3)\n",
    "plt.figure(figsize=(8,5))\n",
    "plt.xlabel('Aux2')\n",
    "plt.ylabel('Time Spent in Hours')\n",
    "plt.scatter(X3, y, c='r',marker='x') \n",
    "plt.plot(X3, y_hat3, c='b', marker='o')"
   ]
  },
  {
   "cell_type": "markdown",
   "metadata": {},
   "source": [
    "The problem statement is observational as the startup is trying to find out how the values of theta, aux1, and aux2 are affecting the customers time spent on the videos. To qualify it as the experimental dataset we must propose new data and use experimental methods and find if the results are replicable."
   ]
  },
  {
   "cell_type": "markdown",
   "metadata": {},
   "source": [
    "## Presentation \n",
    "\n",
    "You will give a 5 minute presentation in class. Your presentation should focus on step 3, above: Summarize your results, display any relevant visualization, and provide guidance to the engineers in the form of recommended setting for *theta*. Also please let the engineers know which value(s) of *theta* you think they should measure next."
   ]
  },
  {
   "cell_type": "markdown",
   "metadata": {
    "slideshow": {
     "slide_type": "slide"
    }
   },
   "source": [
    "# References\n",
    "\n",
    "- https://stats.libretexts.org/Bookshelves/Introductory_Statistics/Book%3A_OpenIntro_Statistics_(Diez_et_al)./07%3A_Introduction_to_Linear_Regression/7.04%3A_Types_of_Outliers_in_Linear_Regression\n",
    "- https://www.statsmodels.org/stable/api.html"
   ]
  }
 ],
 "metadata": {
  "celltoolbar": "Slideshow",
  "kernelspec": {
   "display_name": "Python 3 (ipykernel)",
   "language": "python",
   "name": "python3"
  },
  "language_info": {
   "codemirror_mode": {
    "name": "ipython",
    "version": 3
   },
   "file_extension": ".py",
   "mimetype": "text/x-python",
   "name": "python",
   "nbconvert_exporter": "python",
   "pygments_lexer": "ipython3",
   "version": "3.9.10"
  }
 },
 "nbformat": 4,
 "nbformat_minor": 2
}
