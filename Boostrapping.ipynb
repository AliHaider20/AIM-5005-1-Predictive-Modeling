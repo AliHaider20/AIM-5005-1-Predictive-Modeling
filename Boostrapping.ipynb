{
 "cells": [
  {
   "cell_type": "code",
   "execution_count": 204,
   "metadata": {
    "id": "awFXfMx12gqk"
   },
   "outputs": [],
   "source": [
    "import numpy as np\n",
    "import pandas as pd"
   ]
  },
  {
   "cell_type": "markdown",
   "metadata": {
    "id": "sYv0Qmul2gqm"
   },
   "source": [
    "## Data set"
   ]
  },
  {
   "cell_type": "code",
   "execution_count": 205,
   "metadata": {
    "id": "03FY-zRy2gqp"
   },
   "outputs": [],
   "source": [
    "x1 = np.array([ 0.        ,  3.33333333,  6.66666667, 10.        ,  0.        ,\n",
    "       3.33333333,  6.66666667, 10.        ,  0.        ,  3.33333333,\n",
    "        6.66666667, 10.        ,  0.        ,  3.33333333,  6.66666667,\n",
    "       10.        ])\n",
    "x2 = np.array([0.        , 0.        , 0.        , 0.        , 0.33333333,\n",
    "       0.33333333, 0.33333333, 0.33333333, 0.66666667, 0.66666667,\n",
    "       0.66666667, 0.66666667, 1.        , 1.        , 1.        ,\n",
    "       1.        ])\n",
    "y = np.array([ 1.22353179,  3.57574634,  5.89217837,  8.19889324,  1.96307308,\n",
    "        4.57556858,  7.48364786,  9.2400334 ,  2.9048125 ,  5.74174653,\n",
    "        8.19832673, 10.69424417,  4.15380028,  7.12275093,  8.8976015 ,\n",
    "       11.76820779])"
   ]
  },
  {
   "cell_type": "markdown",
   "metadata": {
    "id": "oA-Gk2ht2gqq"
   },
   "source": [
    "## 1\n",
    "a) Run a linear regression to find A, B1, and B2.  \n",
    "b) Calculate SE(B1) and SE(B2)  \n",
    "c) Calculate a prediction, y_hat, at x1=5, x2=.5 along with $SE(yhat) = \\sqrt{RSS/(n-k-1)} / \\sqrt{n}$"
   ]
  },
  {
   "cell_type": "markdown",
   "metadata": {
    "id": "9N_e67Vh6t1t"
   },
   "source": [
    "## a) Define function to calculate A, B1 and V2"
   ]
  },
  {
   "cell_type": "code",
   "execution_count": 211,
   "metadata": {},
   "outputs": [
    {
     "data": {
      "text/html": [
       "<div>\n",
       "<style scoped>\n",
       "    .dataframe tbody tr th:only-of-type {\n",
       "        vertical-align: middle;\n",
       "    }\n",
       "\n",
       "    .dataframe tbody tr th {\n",
       "        vertical-align: top;\n",
       "    }\n",
       "\n",
       "    .dataframe thead th {\n",
       "        text-align: right;\n",
       "    }\n",
       "</style>\n",
       "<table border=\"1\" class=\"dataframe\">\n",
       "  <thead>\n",
       "    <tr style=\"text-align: right;\">\n",
       "      <th></th>\n",
       "      <th>X1</th>\n",
       "      <th>X2</th>\n",
       "      <th>Y</th>\n",
       "    </tr>\n",
       "  </thead>\n",
       "  <tbody>\n",
       "    <tr>\n",
       "      <th>0</th>\n",
       "      <td>0.000000</td>\n",
       "      <td>0.000000</td>\n",
       "      <td>1.223532</td>\n",
       "    </tr>\n",
       "    <tr>\n",
       "      <th>1</th>\n",
       "      <td>3.333333</td>\n",
       "      <td>0.000000</td>\n",
       "      <td>3.575746</td>\n",
       "    </tr>\n",
       "    <tr>\n",
       "      <th>2</th>\n",
       "      <td>6.666667</td>\n",
       "      <td>0.000000</td>\n",
       "      <td>5.892178</td>\n",
       "    </tr>\n",
       "    <tr>\n",
       "      <th>3</th>\n",
       "      <td>10.000000</td>\n",
       "      <td>0.000000</td>\n",
       "      <td>8.198893</td>\n",
       "    </tr>\n",
       "    <tr>\n",
       "      <th>4</th>\n",
       "      <td>0.000000</td>\n",
       "      <td>0.333333</td>\n",
       "      <td>1.963073</td>\n",
       "    </tr>\n",
       "    <tr>\n",
       "      <th>5</th>\n",
       "      <td>3.333333</td>\n",
       "      <td>0.333333</td>\n",
       "      <td>4.575569</td>\n",
       "    </tr>\n",
       "    <tr>\n",
       "      <th>6</th>\n",
       "      <td>6.666667</td>\n",
       "      <td>0.333333</td>\n",
       "      <td>7.483648</td>\n",
       "    </tr>\n",
       "    <tr>\n",
       "      <th>7</th>\n",
       "      <td>10.000000</td>\n",
       "      <td>0.333333</td>\n",
       "      <td>9.240033</td>\n",
       "    </tr>\n",
       "    <tr>\n",
       "      <th>8</th>\n",
       "      <td>0.000000</td>\n",
       "      <td>0.666667</td>\n",
       "      <td>2.904812</td>\n",
       "    </tr>\n",
       "    <tr>\n",
       "      <th>9</th>\n",
       "      <td>3.333333</td>\n",
       "      <td>0.666667</td>\n",
       "      <td>5.741747</td>\n",
       "    </tr>\n",
       "    <tr>\n",
       "      <th>10</th>\n",
       "      <td>6.666667</td>\n",
       "      <td>0.666667</td>\n",
       "      <td>8.198327</td>\n",
       "    </tr>\n",
       "    <tr>\n",
       "      <th>11</th>\n",
       "      <td>10.000000</td>\n",
       "      <td>0.666667</td>\n",
       "      <td>10.694244</td>\n",
       "    </tr>\n",
       "    <tr>\n",
       "      <th>12</th>\n",
       "      <td>0.000000</td>\n",
       "      <td>1.000000</td>\n",
       "      <td>4.153800</td>\n",
       "    </tr>\n",
       "    <tr>\n",
       "      <th>13</th>\n",
       "      <td>3.333333</td>\n",
       "      <td>1.000000</td>\n",
       "      <td>7.122751</td>\n",
       "    </tr>\n",
       "    <tr>\n",
       "      <th>14</th>\n",
       "      <td>6.666667</td>\n",
       "      <td>1.000000</td>\n",
       "      <td>8.897602</td>\n",
       "    </tr>\n",
       "    <tr>\n",
       "      <th>15</th>\n",
       "      <td>10.000000</td>\n",
       "      <td>1.000000</td>\n",
       "      <td>11.768208</td>\n",
       "    </tr>\n",
       "  </tbody>\n",
       "</table>\n",
       "</div>"
      ],
      "text/plain": [
       "           X1        X2          Y\n",
       "0    0.000000  0.000000   1.223532\n",
       "1    3.333333  0.000000   3.575746\n",
       "2    6.666667  0.000000   5.892178\n",
       "3   10.000000  0.000000   8.198893\n",
       "4    0.000000  0.333333   1.963073\n",
       "5    3.333333  0.333333   4.575569\n",
       "6    6.666667  0.333333   7.483648\n",
       "7   10.000000  0.333333   9.240033\n",
       "8    0.000000  0.666667   2.904812\n",
       "9    3.333333  0.666667   5.741747\n",
       "10   6.666667  0.666667   8.198327\n",
       "11  10.000000  0.666667  10.694244\n",
       "12   0.000000  1.000000   4.153800\n",
       "13   3.333333  1.000000   7.122751\n",
       "14   6.666667  1.000000   8.897602\n",
       "15  10.000000  1.000000  11.768208"
      ]
     },
     "execution_count": 211,
     "metadata": {},
     "output_type": "execute_result"
    }
   ],
   "source": [
    "pd.DataFrame({\"X1\":x1, \"X2\":x2, \"Y\":y})"
   ]
  },
  {
   "cell_type": "code",
   "execution_count": 206,
   "metadata": {
    "id": "PZDHSeli6r9Y"
   },
   "outputs": [],
   "source": [
    "def regress_calc(X,y):\n",
    "  # Calculate the least squares solution using the normal equation\n",
    "\n",
    "    XTX = np.dot(X.T, X)\n",
    "    XTy = np.dot(X.T, y)\n",
    "    beta = np.linalg.solve(XTX, XTy)\n",
    " \n",
    "    return {'intercept':beta[0],'coefficients':beta[1:]}\n"
   ]
  },
  {
   "cell_type": "code",
   "execution_count": 207,
   "metadata": {
    "id": "QusYzUs4OK9R"
   },
   "outputs": [],
   "source": [
    "X = np.vstack([np.ones(len(x1)), x1, x2]).T"
   ]
  },
  {
   "cell_type": "code",
   "execution_count": 208,
   "metadata": {
    "colab": {
     "base_uri": "https://localhost:8080/"
    },
    "id": "BfYoDI0xETe6",
    "outputId": "5e98c403-18b4-40a2-9c0a-7f01a34d89d4"
   },
   "outputs": [
    {
     "name": "stdout",
     "output_type": "stream",
     "text": [
      "{'intercept': 1.0324877889494863, 'coefficients': array([0.73818319, 3.25746294])}\n"
     ]
    }
   ],
   "source": [
    "results=regress_calc(X,y)\n",
    "print(results)"
   ]
  },
  {
   "cell_type": "markdown",
   "metadata": {
    "id": "HJw0RF4uLF3d"
   },
   "source": [
    "## b) Calculate SE(B1) and SE(B2)"
   ]
  },
  {
   "cell_type": "markdown",
   "metadata": {
    "id": "w-GbWmYNMbek"
   },
   "source": [
    "Calculate the residuals"
   ]
  },
  {
   "cell_type": "code",
   "execution_count": 209,
   "metadata": {
    "colab": {
     "base_uri": "https://localhost:8080/"
    },
    "id": "h_7vB7dxOXpY",
    "outputId": "6df479b0-a624-46d0-dd5c-f12d49b1b368"
   },
   "outputs": [],
   "source": [
    "coef=np.array([results['intercept'],results['coefficients'][0],results['coefficients'][1]])"
   ]
  },
  {
   "cell_type": "code",
   "execution_count": 210,
   "metadata": {
    "id": "JDZB6rmNMeq1"
   },
   "outputs": [
    {
     "name": "stdout",
     "output_type": "stream",
     "text": [
      "Error: [ 0.191044    0.08264793 -0.06153067 -0.21542642 -0.15523568 -0.0033508\n",
      "  0.44411785 -0.26010723 -0.29931726  0.07700615  0.07297572  0.10828254\n",
      " -0.13615045  0.37218958 -0.31357048  0.09642519]\n",
      "MSE: 0.04748665378911754\n"
     ]
    }
   ],
   "source": [
    "e = y - np.dot(X, coef)\n",
    "MSE = np.mean(e ** 2)\n",
    "print(\"Error:\", e)\n",
    "print(\"MSE:\", MSE)"
   ]
  },
  {
   "cell_type": "code",
   "execution_count": 185,
   "metadata": {
    "colab": {
     "base_uri": "https://localhost:8080/"
    },
    "id": "UfzWIrRpRPE4",
    "outputId": "e7326f83-9239-4296-f03b-61844abb2ae4"
   },
   "outputs": [
    {
     "name": "stdout",
     "output_type": "stream",
     "text": [
      "We have the next SE values for our coefficients:\n",
      "SE(B1):0.012652619721547822\n",
      "SE(B2):0.12652619713413996\n"
     ]
    }
   ],
   "source": [
    "x = np.column_stack((x1, x2))\n",
    "\n",
    "# Degrees of freedom\n",
    "n = len(y)\n",
    "p = 2\n",
    "dof = n - p - 1\n",
    "\n",
    "# Residual sum of squares\n",
    "rss = np.sum(e ** 2)\n",
    "\n",
    "# Variance-covariance matrix\n",
    "XT = np.transpose(x)\n",
    "XTX = np.dot(XT, x)\n",
    "vcm = np.linalg.inv(XTX) * rss / dof\n",
    "\n",
    "# Standard errors of coefficients\n",
    "se = np.sqrt(np.diagonal(vcm))\n",
    "\n",
    "print('We have the next SE values for our coefficients:')\n",
    "print(f'SE(B1):{se[0]}')\n",
    "print(f'SE(B2):{se[1]}')"
   ]
  },
  {
   "cell_type": "markdown",
   "metadata": {
    "id": "_gSbNjcteS6r"
   },
   "source": [
    "## c) Calculate a prediction, y_hat, at x1=5, x2=.5 along with $SE(yhat) = \\sqrt{RSS/(n-k-1)} / \\sqrt{n}$"
   ]
  },
  {
   "cell_type": "markdown",
   "metadata": {
    "id": "IISZ4Kfkek8y"
   },
   "source": [
    "## Prediction for x1=5, x2=.5 "
   ]
  },
  {
   "cell_type": "code",
   "execution_count": 186,
   "metadata": {
    "colab": {
     "base_uri": "https://localhost:8080/"
    },
    "id": "vsnQGlR1eqJu",
    "outputId": "11aaf6c4-c1b3-4084-afc9-1922a7443fd5"
   },
   "outputs": [
    {
     "name": "stdout",
     "output_type": "stream",
     "text": [
      "y_hat, at x1=5, x2=.5 is 6.352135193124998\n"
     ]
    }
   ],
   "source": [
    "yhat=results['intercept']+5*results['coefficients'][0]+0.5*results['coefficients'][1]\n",
    "print(f'y_hat, at x1=5, x2=.5 is {yhat}')"
   ]
  },
  {
   "cell_type": "markdown",
   "metadata": {
    "id": "SB2cf7KBf15s"
   },
   "source": [
    "Calculate $SE(yhat) = \\sqrt{RSS/(n-k-1)} / \\sqrt{n}$"
   ]
  },
  {
   "cell_type": "code",
   "execution_count": 187,
   "metadata": {
    "id": "H77F1Yv_f-F3"
   },
   "outputs": [],
   "source": [
    "se_yhat=np.sqrt(rss/dof)/np.sqrt(n)"
   ]
  },
  {
   "cell_type": "code",
   "execution_count": 188,
   "metadata": {
    "colab": {
     "base_uri": "https://localhost:8080/"
    },
    "id": "wm9pA0Zzhtbe",
    "outputId": "8bd8fce3-4162-4408-98b4-e7fbca916a56"
   },
   "outputs": [
    {
     "name": "stdout",
     "output_type": "stream",
     "text": [
      "SE (yhat) is 0.06043855989548238\n"
     ]
    }
   ],
   "source": [
    "print(f'SE (yhat) is {se_yhat}')"
   ]
  },
  {
   "cell_type": "markdown",
   "metadata": {
    "id": "B4c3IQ9Z2gqr"
   },
   "source": [
    "## 2\n",
    "a) Calculate m=100 bootstrap sample sets from the original set of 16 samples and, for each bootstrap sample set, estimate A_bs, B1_bs, and B2_bs by regression. (You'll have 100 estimates of each of A_bs, B1_bs, and B2_bs.)  \n",
    "b) Compute SE(B1_bs) and SE(B2_bs) directly from the m=100 samples. Do they match SE(B1) and SE(B2) from part 1, above?  \n",
    "c) For each model, A_bs, B1_bs, and B2_bs, calculate a prediction, y_hat_bs, at x1=5, x2=.5. From that set of predictions, compute SE(y_hat_bs). Does it match SE(y_hat) from part 1, above?  \n",
    "  \n",
    "  \n",
    "Hint: Be sure the values of y, x1, and x2 stay aligned when you draw a sample from the original data. Ex: Randomly drawing the i'th sample would yield (y[i],x1[i],x2[i]) -- all with the same i."
   ]
  },
  {
   "cell_type": "markdown",
   "metadata": {
    "id": "KNjsXb-QD2xD"
   },
   "source": [
    "a) Calculate m=100 bootstrap sample sets from the original set of 16 samples and, for each bootstrap sample set, estimate A_bs, B1_bs, and B2_bs by regression. (You'll have 100 estimates of each of A_bs, B1_bs, and B2_bs.)"
   ]
  },
  {
   "cell_type": "code",
   "execution_count": 189,
   "metadata": {
    "id": "BuUyixGsD4bk"
   },
   "outputs": [],
   "source": [
    "# number of bootstrap samples\n",
    "m = 100\n",
    "\n",
    "# arrays to store estimates\n",
    "A_bs = []\n",
    "B1_bs = []\n",
    "B2_bs = []\n",
    "\n",
    "# bootstrap sampling and regression\n",
    "for i in range(m):\n",
    "    # randomly select 16 samples (with replacement) from the original set\n",
    "    idx = np.random.choice(16, 16, replace=True)\n",
    "    x1_bs = x1[idx]\n",
    "    x2_bs = x2[idx]\n",
    "    y_bs = y[idx]\n",
    "\n",
    "    X_bs = np.column_stack((np.ones(16), x1_bs, x2_bs))\n",
    "    result=regress_calc(X_bs,y_bs)\n",
    "    \n",
    "    # store estimates\n",
    "    A_bs.append(result['intercept'])\n",
    "    B1_bs.append(result['coefficients'][0])\n",
    "    B2_bs.append(result['coefficients'][1])"
   ]
  },
  {
   "cell_type": "code",
   "execution_count": 200,
   "metadata": {
    "id": "nP3fMbttF29J"
   },
   "outputs": [
    {
     "data": {
      "text/html": [
       "<div>\n",
       "<style scoped>\n",
       "    .dataframe tbody tr th:only-of-type {\n",
       "        vertical-align: middle;\n",
       "    }\n",
       "\n",
       "    .dataframe tbody tr th {\n",
       "        vertical-align: top;\n",
       "    }\n",
       "\n",
       "    .dataframe thead th {\n",
       "        text-align: right;\n",
       "    }\n",
       "</style>\n",
       "<table border=\"1\" class=\"dataframe\">\n",
       "  <thead>\n",
       "    <tr style=\"text-align: right;\">\n",
       "      <th></th>\n",
       "      <th>intercept</th>\n",
       "      <th>b1</th>\n",
       "      <th>b2</th>\n",
       "    </tr>\n",
       "  </thead>\n",
       "  <tbody>\n",
       "    <tr>\n",
       "      <th>0</th>\n",
       "      <td>1.004626</td>\n",
       "      <td>0.741607</td>\n",
       "      <td>3.184754</td>\n",
       "    </tr>\n",
       "    <tr>\n",
       "      <th>1</th>\n",
       "      <td>1.136336</td>\n",
       "      <td>0.722455</td>\n",
       "      <td>3.091356</td>\n",
       "    </tr>\n",
       "    <tr>\n",
       "      <th>2</th>\n",
       "      <td>0.988610</td>\n",
       "      <td>0.742711</td>\n",
       "      <td>3.404606</td>\n",
       "    </tr>\n",
       "    <tr>\n",
       "      <th>3</th>\n",
       "      <td>1.058033</td>\n",
       "      <td>0.760840</td>\n",
       "      <td>2.926590</td>\n",
       "    </tr>\n",
       "    <tr>\n",
       "      <th>4</th>\n",
       "      <td>1.051382</td>\n",
       "      <td>0.741234</td>\n",
       "      <td>3.161095</td>\n",
       "    </tr>\n",
       "    <tr>\n",
       "      <th>...</th>\n",
       "      <td>...</td>\n",
       "      <td>...</td>\n",
       "      <td>...</td>\n",
       "    </tr>\n",
       "    <tr>\n",
       "      <th>95</th>\n",
       "      <td>1.252382</td>\n",
       "      <td>0.761371</td>\n",
       "      <td>2.793711</td>\n",
       "    </tr>\n",
       "    <tr>\n",
       "      <th>96</th>\n",
       "      <td>1.049265</td>\n",
       "      <td>0.748528</td>\n",
       "      <td>3.170919</td>\n",
       "    </tr>\n",
       "    <tr>\n",
       "      <th>97</th>\n",
       "      <td>1.136786</td>\n",
       "      <td>0.726776</td>\n",
       "      <td>3.472908</td>\n",
       "    </tr>\n",
       "    <tr>\n",
       "      <th>98</th>\n",
       "      <td>1.204325</td>\n",
       "      <td>0.726023</td>\n",
       "      <td>3.170019</td>\n",
       "    </tr>\n",
       "    <tr>\n",
       "      <th>99</th>\n",
       "      <td>1.099123</td>\n",
       "      <td>0.719404</td>\n",
       "      <td>3.360317</td>\n",
       "    </tr>\n",
       "  </tbody>\n",
       "</table>\n",
       "<p>100 rows × 3 columns</p>\n",
       "</div>"
      ],
      "text/plain": [
       "    intercept        b1        b2\n",
       "0    1.004626  0.741607  3.184754\n",
       "1    1.136336  0.722455  3.091356\n",
       "2    0.988610  0.742711  3.404606\n",
       "3    1.058033  0.760840  2.926590\n",
       "4    1.051382  0.741234  3.161095\n",
       "..        ...       ...       ...\n",
       "95   1.252382  0.761371  2.793711\n",
       "96   1.049265  0.748528  3.170919\n",
       "97   1.136786  0.726776  3.472908\n",
       "98   1.204325  0.726023  3.170019\n",
       "99   1.099123  0.719404  3.360317\n",
       "\n",
       "[100 rows x 3 columns]"
      ]
     },
     "execution_count": 200,
     "metadata": {},
     "output_type": "execute_result"
    }
   ],
   "source": [
    "df=pd.DataFrame({'intercept':A_bs,'b1':B1_bs,'b2':B2_bs})\n",
    "df"
   ]
  },
  {
   "cell_type": "markdown",
   "metadata": {
    "id": "JNq3pr_dK426"
   },
   "source": [
    "b) Compute SE(B1_bs) and SE(B2_bs) directly from the m=100 samples. Do they match SE(B1) and SE(B2) from part 1, above?"
   ]
  },
  {
   "cell_type": "code",
   "execution_count": 192,
   "metadata": {
    "colab": {
     "base_uri": "https://localhost:8080/"
    },
    "id": "BWUZLvVOLMMn",
    "outputId": "4bf46906-ec0a-4a46-c06b-6f448be4b933"
   },
   "outputs": [
    {
     "name": "stdout",
     "output_type": "stream",
     "text": [
      "SE(B1_bs): 0.015976949067804242\n",
      "SE(B2_bs): 0.1695298715540743\n"
     ]
    }
   ],
   "source": [
    "SE_B1_bs = df['b1'].std()\n",
    "SE_B2_bs = df['b2'].std()\n",
    "\n",
    "\n",
    "print(\"SE(B1_bs):\", SE_B1_bs)\n",
    "print(\"SE(B2_bs):\", SE_B2_bs)"
   ]
  },
  {
   "cell_type": "markdown",
   "metadata": {
    "id": "wssIVWqCNK7D"
   },
   "source": [
    "SE(B1_bs) and SE(B2_bs) computed from the bootstrap samples do not match the SE(B1) and SE(B2) computed from the original sample exactly, they are very close and provide a good estimate of the variability in the estimates of the regression coefficients."
   ]
  },
  {
   "cell_type": "markdown",
   "metadata": {
    "id": "rqvIKaLUN2rE"
   },
   "source": [
    "c) For each model, A_bs, B1_bs, and B2_bs, calculate a prediction, y_hat_bs, at x1=5, x2=.5. From that set of predictions, compute SE(y_hat_bs). Does it match SE(y_hat) from part 1, above?"
   ]
  },
  {
   "cell_type": "code",
   "execution_count": 212,
   "metadata": {
    "id": "0u1KYaZHOIhe"
   },
   "outputs": [],
   "source": [
    "new_x1=5\n",
    "new_x2=0.5\n",
    "\n",
    "y_hat_bs = []\n",
    "\n",
    "for i in range(m):\n",
    "    y_hat_bs.append(df['intercept'][i]+df['b1'][i]*new_x1+df['b1'][i]*new_x2)\n"
   ]
  },
  {
   "cell_type": "code",
   "execution_count": 213,
   "metadata": {
    "id": "ATfnl8KsSdF6"
   },
   "outputs": [],
   "source": [
    "df['y_hat(Preds)']=y_hat_bs"
   ]
  },
  {
   "cell_type": "code",
   "execution_count": 214,
   "metadata": {
    "colab": {
     "base_uri": "https://localhost:8080/",
     "height": 423
    },
    "id": "QWW3kkRaSkIc",
    "outputId": "ffb8962e-c6f7-4ed9-fd88-6cd11011a225"
   },
   "outputs": [
    {
     "data": {
      "text/html": [
       "<div>\n",
       "<style scoped>\n",
       "    .dataframe tbody tr th:only-of-type {\n",
       "        vertical-align: middle;\n",
       "    }\n",
       "\n",
       "    .dataframe tbody tr th {\n",
       "        vertical-align: top;\n",
       "    }\n",
       "\n",
       "    .dataframe thead th {\n",
       "        text-align: right;\n",
       "    }\n",
       "</style>\n",
       "<table border=\"1\" class=\"dataframe\">\n",
       "  <thead>\n",
       "    <tr style=\"text-align: right;\">\n",
       "      <th></th>\n",
       "      <th>intercept</th>\n",
       "      <th>b1</th>\n",
       "      <th>b2</th>\n",
       "      <th>y_hat(Preds)</th>\n",
       "    </tr>\n",
       "  </thead>\n",
       "  <tbody>\n",
       "    <tr>\n",
       "      <th>0</th>\n",
       "      <td>1.004626</td>\n",
       "      <td>0.741607</td>\n",
       "      <td>3.184754</td>\n",
       "      <td>5.083462</td>\n",
       "    </tr>\n",
       "    <tr>\n",
       "      <th>1</th>\n",
       "      <td>1.136336</td>\n",
       "      <td>0.722455</td>\n",
       "      <td>3.091356</td>\n",
       "      <td>5.109836</td>\n",
       "    </tr>\n",
       "    <tr>\n",
       "      <th>2</th>\n",
       "      <td>0.988610</td>\n",
       "      <td>0.742711</td>\n",
       "      <td>3.404606</td>\n",
       "      <td>5.073520</td>\n",
       "    </tr>\n",
       "    <tr>\n",
       "      <th>3</th>\n",
       "      <td>1.058033</td>\n",
       "      <td>0.760840</td>\n",
       "      <td>2.926590</td>\n",
       "      <td>5.242652</td>\n",
       "    </tr>\n",
       "    <tr>\n",
       "      <th>4</th>\n",
       "      <td>1.051382</td>\n",
       "      <td>0.741234</td>\n",
       "      <td>3.161095</td>\n",
       "      <td>5.128172</td>\n",
       "    </tr>\n",
       "    <tr>\n",
       "      <th>...</th>\n",
       "      <td>...</td>\n",
       "      <td>...</td>\n",
       "      <td>...</td>\n",
       "      <td>...</td>\n",
       "    </tr>\n",
       "    <tr>\n",
       "      <th>95</th>\n",
       "      <td>1.252382</td>\n",
       "      <td>0.761371</td>\n",
       "      <td>2.793711</td>\n",
       "      <td>5.439923</td>\n",
       "    </tr>\n",
       "    <tr>\n",
       "      <th>96</th>\n",
       "      <td>1.049265</td>\n",
       "      <td>0.748528</td>\n",
       "      <td>3.170919</td>\n",
       "      <td>5.166170</td>\n",
       "    </tr>\n",
       "    <tr>\n",
       "      <th>97</th>\n",
       "      <td>1.136786</td>\n",
       "      <td>0.726776</td>\n",
       "      <td>3.472908</td>\n",
       "      <td>5.134052</td>\n",
       "    </tr>\n",
       "    <tr>\n",
       "      <th>98</th>\n",
       "      <td>1.204325</td>\n",
       "      <td>0.726023</td>\n",
       "      <td>3.170019</td>\n",
       "      <td>5.197453</td>\n",
       "    </tr>\n",
       "    <tr>\n",
       "      <th>99</th>\n",
       "      <td>1.099123</td>\n",
       "      <td>0.719404</td>\n",
       "      <td>3.360317</td>\n",
       "      <td>5.055847</td>\n",
       "    </tr>\n",
       "  </tbody>\n",
       "</table>\n",
       "<p>100 rows × 4 columns</p>\n",
       "</div>"
      ],
      "text/plain": [
       "    intercept        b1        b2  y_hat(Preds)\n",
       "0    1.004626  0.741607  3.184754      5.083462\n",
       "1    1.136336  0.722455  3.091356      5.109836\n",
       "2    0.988610  0.742711  3.404606      5.073520\n",
       "3    1.058033  0.760840  2.926590      5.242652\n",
       "4    1.051382  0.741234  3.161095      5.128172\n",
       "..        ...       ...       ...           ...\n",
       "95   1.252382  0.761371  2.793711      5.439923\n",
       "96   1.049265  0.748528  3.170919      5.166170\n",
       "97   1.136786  0.726776  3.472908      5.134052\n",
       "98   1.204325  0.726023  3.170019      5.197453\n",
       "99   1.099123  0.719404  3.360317      5.055847\n",
       "\n",
       "[100 rows x 4 columns]"
      ]
     },
     "execution_count": 214,
     "metadata": {},
     "output_type": "execute_result"
    }
   ],
   "source": [
    "df"
   ]
  },
  {
   "cell_type": "code",
   "execution_count": 215,
   "metadata": {
    "colab": {
     "base_uri": "https://localhost:8080/"
    },
    "id": "1O2SI17rS2Pa",
    "outputId": "933aacd9-0071-4a15-cde9-5259db083e3d"
   },
   "outputs": [
    {
     "name": "stdout",
     "output_type": "stream",
     "text": [
      "SE(y_hat_bs): 0.10328958024482228\n"
     ]
    }
   ],
   "source": [
    "se_y_hat_bs = np.std(y_hat_bs)\n",
    "print('SE(y_hat_bs):', se_y_hat_bs)"
   ]
  },
  {
   "cell_type": "markdown",
   "metadata": {},
   "source": [
    "It can be observed that the value is slightly larger before the bootstrap which is expected due to the variability induced by the bootstrap."
   ]
  }
 ],
 "metadata": {
  "kernelspec": {
   "display_name": "Python 3 (ipykernel)",
   "language": "python",
   "name": "python3"
  },
  "language_info": {
   "codemirror_mode": {
    "name": "ipython",
    "version": 3
   },
   "file_extension": ".py",
   "mimetype": "text/x-python",
   "name": "python",
   "nbconvert_exporter": "python",
   "pygments_lexer": "ipython3",
   "version": "3.9.10"
  }
 },
 "nbformat": 4,
 "nbformat_minor": 2
}
